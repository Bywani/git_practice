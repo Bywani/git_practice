{
 "cells": [
  {
   "cell_type": "code",
   "execution_count": 19,
   "metadata": {},
   "outputs": [],
   "source": [
    "# We will be looking at Python data types specifically lists and dictionaries... \n",
    "\n",
    "data_info = [\n",
    "    {\"Color\": \"Red\", \"Rating\": 4.7},\n",
    "    {\"Color\": \"Blue\", \"Rating\": 5.0},\n",
    "    {\"Color\": \"Green\", \"Rating\": 4.8},\n",
    "    {\"Color\": \"Yellow\", \"Rating\": 4.5}\n",
    "]"
   ]
  },
  {
   "cell_type": "code",
   "execution_count": 33,
   "metadata": {},
   "outputs": [
    {
     "data": {
      "text/plain": [
       "[4.7, 5.0, 4.8, 4.5]"
      ]
     },
     "execution_count": 33,
     "metadata": {},
     "output_type": "execute_result"
    }
   ],
   "source": [
    "list_of_keys = []\n",
    "\n",
    "for keys in data_info:\n",
    "        list_of_keys.append(keys[\"Rating\"])\n",
    "\n",
    "list_of_keys"
   ]
  },
  {
   "cell_type": "code",
   "execution_count": 15,
   "metadata": {},
   "outputs": [],
   "source": [
    "info = [5.2, 3.6, 1.7, 4.8, 5.2, 8.9]"
   ]
  },
  {
   "cell_type": "code",
   "execution_count": 17,
   "metadata": {},
   "outputs": [
    {
     "data": {
      "text/plain": [
       "[5.2, 4.8, 5.2, 8.9]"
      ]
     },
     "execution_count": 17,
     "metadata": {},
     "output_type": "execute_result"
    }
   ],
   "source": [
    "new_info = []\n",
    "\n",
    "for data in info:\n",
    "    if data > 3.6:\n",
    "        new_info.append(data)\n",
    "\n",
    "        \n",
    "new_info"
   ]
  },
  {
   "cell_type": "code",
   "execution_count": 37,
   "metadata": {},
   "outputs": [
    {
     "data": {
      "text/plain": [
       "[5.2, 4.8, 5.2, 8.9]"
      ]
     },
     "execution_count": 37,
     "metadata": {},
     "output_type": "execute_result"
    }
   ],
   "source": [
    "comp_list = [x for x in new_info if x > 3.6]\n",
    "comp_list"
   ]
  },
  {
   "cell_type": "code",
   "execution_count": 42,
   "metadata": {},
   "outputs": [
    {
     "data": {
      "text/plain": [
       "[15.600000000000001,\n",
       " 14.399999999999999,\n",
       " 15.600000000000001,\n",
       " 26.700000000000003]"
      ]
     },
     "execution_count": 42,
     "metadata": {},
     "output_type": "execute_result"
    }
   ],
   "source": [
    "new_list_data = []\n",
    "\n",
    "for l in info:\n",
    "        if l > 3.6:\n",
    "            new_list_data.append(3 * l)\n",
    "\n",
    "new_list_data"
   ]
  },
  {
   "cell_type": "code",
   "execution_count": 57,
   "metadata": {},
   "outputs": [
    {
     "data": {
      "text/plain": [
       "[15.600000000000001,\n",
       " 14.399999999999999,\n",
       " 15.600000000000001,\n",
       " 26.700000000000003]"
      ]
     },
     "execution_count": 57,
     "metadata": {},
     "output_type": "execute_result"
    }
   ],
   "source": [
    "new_comp_list = [ 3 * l for l in new_info if l > 3.6]\n",
    "\n",
    "new_comp_list"
   ]
  },
  {
   "cell_type": "code",
   "execution_count": 60,
   "metadata": {},
   "outputs": [],
   "source": [
    "dict_data, dict_indices = [11, 13, 15, 17], [12, 14, 16, 18]\n",
    "\n",
    "dict_list = zip(dict_data, dict_indices)"
   ]
  },
  {
   "cell_type": "code",
   "execution_count": 61,
   "metadata": {},
   "outputs": [
    {
     "data": {
      "text/plain": [
       "{11: 12, 13: 14, 15: 16, 17: 18}"
      ]
     },
     "execution_count": 61,
     "metadata": {},
     "output_type": "execute_result"
    }
   ],
   "source": [
    "one_dict = {}\n",
    "\n",
    "for a, b in dict_list:\n",
    "    one_dict[a] = b\n",
    "\n",
    "one_dict"
   ]
  },
  {
   "cell_type": "code",
   "execution_count": 66,
   "metadata": {},
   "outputs": [
    {
     "data": {
      "text/plain": [
       "{11: 12, 13: 14, 15: 16, 17: 18}"
      ]
     },
     "execution_count": 66,
     "metadata": {},
     "output_type": "execute_result"
    }
   ],
   "source": [
    "dict_list = zip(dict_data, dict_indices)\n",
    "\n",
    "dict_comp = { a: b for a, b in dict_list}\n",
    "\n",
    "dict_comp"
   ]
  },
  {
   "cell_type": "code",
   "execution_count": 69,
   "metadata": {},
   "outputs": [
    {
     "data": {
      "text/plain": [
       "{5: 36, 6: 42, 7: 48, 8: 54}"
      ]
     },
     "execution_count": 69,
     "metadata": {},
     "output_type": "execute_result"
    }
   ],
   "source": [
    "dict_list = zip(dict_data, dict_indices)\n",
    "\n",
    "\n",
    "new_dict_comp = {a // 2: b * 3 for a, b in dict_list}\n",
    "\n",
    "new_dict_comp"
   ]
  },
  {
   "cell_type": "code",
   "execution_count": 75,
   "metadata": {},
   "outputs": [],
   "source": [
    "names = [\"mr. fox\", \"mrs. fox\", \"dr. fox\"]"
   ]
  },
  {
   "cell_type": "code",
   "execution_count": 76,
   "metadata": {},
   "outputs": [
    {
     "data": {
      "text/plain": [
       "['Mr. Fox', 'Mrs. Fox', 'Dr. Fox']"
      ]
     },
     "execution_count": 76,
     "metadata": {},
     "output_type": "execute_result"
    }
   ],
   "source": [
    "updated_names = [name.title() for name in names]\n",
    "updated_names"
   ]
  },
  {
   "cell_type": "code",
   "execution_count": 90,
   "metadata": {},
   "outputs": [
    {
     "data": {
      "text/plain": [
       "[50, 144, 166]"
      ]
     },
     "execution_count": 90,
     "metadata": {},
     "output_type": "execute_result"
    }
   ],
   "source": [
    "another_comp_list = [13, 25, 72, 83]\n",
    "\n",
    "the_list = [l * 2 for l in another_comp_list if l > 13]\n",
    "\n",
    "the_list"
   ]
  },
  {
   "cell_type": "code",
   "execution_count": 99,
   "metadata": {},
   "outputs": [
    {
     "data": {
      "text/plain": [
       "{1: 'Real Madrid', 2: 'Liverpool', 3: 'Juventus', 4: 'Manchester United'}"
      ]
     },
     "execution_count": 99,
     "metadata": {},
     "output_type": "execute_result"
    }
   ],
   "source": [
    "my_team = [\"Real Madrid\", \"Liverpool\", \"Juventus\", \"Manchester United\"]\n",
    "\n",
    "my_team_list = dict(zip(range(1, 5), my_team))\n",
    "\n",
    "my_team_list"
   ]
  },
  {
   "cell_type": "code",
   "execution_count": 98,
   "metadata": {},
   "outputs": [
    {
     "data": {
      "text/plain": [
       "[(1, 'Real Madrid'),\n",
       " (2, 'Liverpool'),\n",
       " (3, 'Juventus'),\n",
       " (4, 'Manchester United')]"
      ]
     },
     "execution_count": 98,
     "metadata": {},
     "output_type": "execute_result"
    }
   ],
   "source": [
    "my_team = [\"Real Madrid\", \"Liverpool\", \"Juventus\", \"Manchester United\"]\n",
    "\n",
    "my_team_list = list(zip(range(1, 5), my_team))\n",
    "\n",
    "my_team_list"
   ]
  },
  {
   "cell_type": "code",
   "execution_count": 168,
   "metadata": {},
   "outputs": [],
   "source": [
    "my_players, jersey_nums = [\"mane\", \"salah\", \"cristiano\"], [17, 11, 7]\n",
    "\n",
    "my_team = zip(my_players, jersey_nums)\n"
   ]
  },
  {
   "cell_type": "code",
   "execution_count": 169,
   "metadata": {},
   "outputs": [
    {
     "data": {
      "text/plain": [
       "{'MANE': 17, 'SALAH': 11, 'CRISTIANO': 7}"
      ]
     },
     "execution_count": 169,
     "metadata": {},
     "output_type": "execute_result"
    }
   ],
   "source": [
    "my_team_dict = {a.upper(): b for a, b in my_team}\n",
    "\n",
    "my_team_dict"
   ]
  }
 ],
 "metadata": {
  "kernelspec": {
   "display_name": "Python (learn-env)",
   "language": "python",
   "name": "learn-env"
  },
  "language_info": {
   "codemirror_mode": {
    "name": "ipython",
    "version": 3
   },
   "file_extension": ".py",
   "mimetype": "text/x-python",
   "name": "python",
   "nbconvert_exporter": "python",
   "pygments_lexer": "ipython3",
   "version": "3.8.5"
  }
 },
 "nbformat": 4,
 "nbformat_minor": 4
}
